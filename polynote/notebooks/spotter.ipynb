{
  "metadata" : {
    "config" : {
      "dependencies" : {
        "scala" : [
          "io.confluent:kafka-avro-serializer:5.3.1",
          "org.apache.spark:spark-sql-kafka-0-10_2.11:2.4.4",
          "org.apache.spark:spark-avro_2.11:2.4.4"
        ]
      },
      "exclusions" : [
      ],
      "repositories" : [
        {
          "maven" : {
            "base" : "http://packages.confluent.io/maven/"
          }
        }
      ],
      "sparkConfig" : {
        "spark.master" : "local[*]"
      }
    }
  },
  "nbformat" : 4,
  "nbformat_minor" : 0,
  "cells" : [
    {
      "cell_type" : "markdown",
      "execution_count" : 0,
      "metadata" : {
        "language" : "text"
      },
      "language" : "text",
      "source" : [
        "# spotter\n",
        "\n",
        "This is a text cell. Start editing!"
      ],
      "outputs" : [
      ]
    },
    {
      "cell_type" : "code",
      "execution_count" : 1,
      "metadata" : {
        "cell.metadata.exec_info" : {
          "startTs" : 1578185711253,
          "endTs" : 1578185712134
        },
        "language" : "scala"
      },
      "language" : "scala",
      "source" : [
        "val schemaRegistryURL = \"http://schema-registry:8081\"\n",
        "val topic = \"spot-price-topic\""
      ],
      "outputs" : [
      ]
    },
    {
      "cell_type" : "code",
      "execution_count" : 2,
      "metadata" : {
        "cell.metadata.exec_info" : {
          "startTs" : 1578185712342,
          "endTs" : 1578185714601
        },
        "language" : "scala"
      },
      "language" : "scala",
      "source" : [
        "val df = spark.read\n",
        "        .format(\"kafka\")\n",
        "        .option(\"kafka.bootstrap.servers\", \"broker:9092\")\n",
        "        .option(\"subscribe\", topic)\n",
        "        .option(\"startingOffsets\", \"earliest\") // From starting\n",
        "        .load()\n",
        "//df.printSchema"
      ],
      "outputs" : [
      ]
    },
    {
      "cell_type" : "code",
      "execution_count" : 3,
      "metadata" : {
        "cell.metadata.exec_info" : {
          "startTs" : 1578185714613,
          "endTs" : 1578185716335
        },
        "language" : "scala"
      },
      "language" : "scala",
      "source" : [
        "import io.confluent.kafka.schemaregistry.client.CachedSchemaRegistryClient\n",
        "\n",
        "val schemaRegistryClient = new CachedSchemaRegistryClient(schemaRegistryURL, 128)\n",
        "\n",
        "val valueSchema = schemaRegistryClient.getLatestSchemaMetadata(topic + \"-value\").getSchema"
      ],
      "outputs" : [
      ]
    },
    {
      "cell_type" : "code",
      "execution_count" : 4,
      "metadata" : {
        "cell.metadata.exec_info" : {
          "startTs" : 1578185716458,
          "endTs" : 1578185718595
        },
        "language" : "scala"
      },
      "language" : "scala",
      "source" : [
        "import org.apache.spark.sql.avro._\n",
        "import org.apache.spark.sql.types.DataTypes\n",
        "val avroDf = df.select(\n",
        "  'key.cast(DataTypes.StringType),\n",
        "  from_avro('value, valueSchema).as(\"value\")\n",
        ")"
      ],
      "outputs" : [
      ]
    },
    {
      "cell_type" : "code",
      "execution_count" : 5,
      "metadata" : {
        "cell.metadata.exec_info" : {
          "startTs" : 1578186209513,
          "endTs" : 1578186209940
        },
        "language" : "scala"
      },
      "language" : "scala",
      "source" : [
        "avroDf.printSchema"
      ],
      "outputs" : [
        {
          "name" : "stdout",
          "text" : [
            "root\n",
            " |-- key: string (nullable = true)\n",
            " |-- value: struct (nullable = true)\n",
            " |    |-- provider: string (nullable = false)\n",
            " |    |-- zone: string (nullable = false)\n",
            " |    |-- instance: string (nullable = false)\n",
            " |    |-- timestamp: timestamp (nullable = false)\n",
            " |    |-- price: double (nullable = false)\n",
            "\n"
          ],
          "output_type" : "stream"
        }
      ]
    },
    {
      "cell_type" : "code",
      "execution_count" : 6,
      "metadata" : {
        "cell.metadata.exec_info" : {
          "startTs" : 1578186192414,
          "endTs" : 1578186193030
        },
        "language" : "scala"
      },
      "language" : "scala",
      "source" : [
        "avroDf.select(\"value.*\", \"value.timestamp\")"
      ],
      "outputs" : [
        {
          "execution_count" : 6,
          "data" : {
            "text/plain" : [
              "[provider: string, zone: string ... 4 more fields]"
            ]
          },
          "metadata" : {
            "name" : "Out",
            "type" : "DataFrame"
          },
          "output_type" : "execute_result"
        }
      ]
    },
    {
      "cell_type" : "code",
      "execution_count" : 7,
      "metadata" : {
        "language" : "scala"
      },
      "language" : "scala",
      "source" : [
      ],
      "outputs" : [
      ]
    }
  ]
}